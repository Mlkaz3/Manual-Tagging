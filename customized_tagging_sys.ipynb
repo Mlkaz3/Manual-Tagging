{
 "cells": [
  {
   "cell_type": "code",
   "execution_count": 1,
   "metadata": {},
   "outputs": [],
   "source": [
    "import pandas as pd "
   ]
  },
  {
   "cell_type": "code",
   "execution_count": 2,
   "metadata": {},
   "outputs": [],
   "source": [
    "df = pd.read_csv(\"manual_tag_data/manual_0.csv\")"
   ]
  },
  {
   "cell_type": "code",
   "execution_count": 3,
   "metadata": {},
   "outputs": [
    {
     "data": {
      "text/html": [
       "<div>\n",
       "<style scoped>\n",
       "    .dataframe tbody tr th:only-of-type {\n",
       "        vertical-align: middle;\n",
       "    }\n",
       "\n",
       "    .dataframe tbody tr th {\n",
       "        vertical-align: top;\n",
       "    }\n",
       "\n",
       "    .dataframe thead th {\n",
       "        text-align: right;\n",
       "    }\n",
       "</style>\n",
       "<table border=\"1\" class=\"dataframe\">\n",
       "  <thead>\n",
       "    <tr style=\"text-align: right;\">\n",
       "      <th></th>\n",
       "      <th>Sentence</th>\n",
       "    </tr>\n",
       "  </thead>\n",
       "  <tbody>\n",
       "    <tr>\n",
       "      <th>0</th>\n",
       "      <td>Lawa belaka</td>\n",
       "    </tr>\n",
       "    <tr>\n",
       "      <th>1</th>\n",
       "      <td>kain microfibres cepat kering</td>\n",
       "    </tr>\n",
       "    <tr>\n",
       "      <th>2</th>\n",
       "      <td>Terbaikkkkkkkkkkkkk bagusssssssssssssss cunnnn...</td>\n",
       "    </tr>\n",
       "    <tr>\n",
       "      <th>3</th>\n",
       "      <td>Semoga motor saya tidak kesejukkan dimalam har...</td>\n",
       "    </tr>\n",
       "    <tr>\n",
       "      <th>4</th>\n",
       "      <td>Very fast delivery although from overseas</td>\n",
       "    </tr>\n",
       "  </tbody>\n",
       "</table>\n",
       "</div>"
      ],
      "text/plain": [
       "                                            Sentence\n",
       "0                                        Lawa belaka\n",
       "1                      kain microfibres cepat kering\n",
       "2  Terbaikkkkkkkkkkkkk bagusssssssssssssss cunnnn...\n",
       "3  Semoga motor saya tidak kesejukkan dimalam har...\n",
       "4          Very fast delivery although from overseas"
      ]
     },
     "execution_count": 3,
     "metadata": {},
     "output_type": "execute_result"
    }
   ],
   "source": [
    "df.head()"
   ]
  },
  {
   "cell_type": "code",
   "execution_count": 4,
   "metadata": {},
   "outputs": [],
   "source": [
    "df_list = df.Sentence.tolist()"
   ]
  },
  {
   "cell_type": "code",
   "execution_count": 5,
   "metadata": {},
   "outputs": [
    {
     "data": {
      "text/plain": [
       "1000"
      ]
     },
     "execution_count": 5,
     "metadata": {},
     "output_type": "execute_result"
    }
   ],
   "source": [
    "len(df_list)"
   ]
  },
  {
   "cell_type": "code",
   "execution_count": 10,
   "metadata": {},
   "outputs": [
    {
     "name": "stdout",
     "output_type": "stream",
     "text": [
      "CURRRENT SENTENCE\n",
      "1  ->  Lawa belaka\n",
      "Lawa\n"
     ]
    }
   ],
   "source": [
    "tag_list = []\n",
    "count = 0\n",
    "\n",
    "for i in df_list:\n",
    "\n",
    "    tuple_list = []\n",
    "\n",
    "    count+=1\n",
    "    print(\"CURRRENT SENTENCE\")\n",
    "    print(count, \" -> \" ,i)\n",
    "\n",
    "    token_list = i.split()\n",
    "    for i in token_list:\n",
    "        print(i)\n",
    "        tag = input('Enter tag:')\n",
    "        tag_tuple = (i,tag)\n",
    "        tuple_list.append(tag_tuple)\n",
    "\n",
    "    tag_list.append(tuple_list)\n",
    "\n",
    "    print(\"\")\n",
    "\n",
    "    if count ==2:\n",
    "        break"
   ]
  },
  {
   "cell_type": "code",
   "execution_count": null,
   "metadata": {},
   "outputs": [],
   "source": [
    "tag_list"
   ]
  },
  {
   "cell_type": "markdown",
   "metadata": {},
   "source": [
    "# Alternative sys\n",
    "\n",
    "Improvised in: \n",
    "able to save if one single is tagged manually into csv"
   ]
  },
  {
   "cell_type": "code",
   "execution_count": null,
   "metadata": {},
   "outputs": [],
   "source": [
    "df = pd.read_csv(\"manual_tag_data/manual_0.csv\")\n",
    "df.head()"
   ]
  },
  {
   "cell_type": "code",
   "execution_count": null,
   "metadata": {},
   "outputs": [],
   "source": [
    "# adding one more column to the df\n",
    "data = df\n",
    "data[\"Tagged_Sentence\"] = \"\"\n",
    "data.head()"
   ]
  },
  {
   "cell_type": "code",
   "execution_count": null,
   "metadata": {},
   "outputs": [],
   "source": [
    "count = 0\n",
    "for i in range(len(data)):\n",
    "    \n",
    "    tag_status = data[\"Tagged_Sentence\"].loc[i]\n",
    "    \n",
    "    if tag_status==\"\":\n",
    "        print(\"CURRRENT SENTENCE\")\n",
    "        current = data[\"Sentence\"].loc[i]\n",
    "        print(count, \" -> \", current)\n",
    "        # print(\"Empty\")\n",
    "        \n",
    "        token_list = current.split()\n",
    "        tuple_list = []\n",
    "        for token in token_list:\n",
    "            print(token)\n",
    "            tag = input('Enter tag:')\n",
    "            tag_tuple = (token,tag)\n",
    "            tuple_list.append(tag_tuple)\n",
    "        \n",
    "        print(tuple_list)\n",
    "        \n",
    "        print(data[\"Tagged_Sentence\"].loc[i])\n",
    "        data[\"Tagged_Sentence\"].loc[i] = tuple_list\n",
    "        print(data[\"Tagged_Sentence\"].loc[i])\n",
    "        \n",
    "        print(\"\")\n",
    "        \n",
    "    count+=1\n",
    "    if count==5:\n",
    "        break"
   ]
  },
  {
   "cell_type": "code",
   "execution_count": null,
   "metadata": {},
   "outputs": [],
   "source": [
    "data.head()"
   ]
  },
  {
   "cell_type": "code",
   "execution_count": null,
   "metadata": {},
   "outputs": [],
   "source": [
    "data.to_csv(\"manual_0_tagged.csv\", index=None)"
   ]
  },
  {
   "cell_type": "code",
   "execution_count": null,
   "metadata": {},
   "outputs": [],
   "source": []
  }
 ],
 "metadata": {
  "kernelspec": {
   "display_name": "Python 3.8.10 ('env1')",
   "language": "python",
   "name": "python3"
  },
  "language_info": {
   "codemirror_mode": {
    "name": "ipython",
    "version": 3
   },
   "file_extension": ".py",
   "mimetype": "text/x-python",
   "name": "python",
   "nbconvert_exporter": "python",
   "pygments_lexer": "ipython3",
   "version": "3.8.10"
  },
  "orig_nbformat": 4,
  "vscode": {
   "interpreter": {
    "hash": "b99c101d616cbdccde507e188409b1f92d33c191ae2f9ddd5e778a0ea3ae0c3e"
   }
  }
 },
 "nbformat": 4,
 "nbformat_minor": 2
}
