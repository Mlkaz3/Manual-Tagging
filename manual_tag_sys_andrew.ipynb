{
 "cells": [
  {
   "cell_type": "code",
   "execution_count": null,
   "id": "fa3e8b35-fe8c-44fe-89b7-7ed886b75794",
   "metadata": {},
   "outputs": [],
   "source": [
    "import pandas as pd\n",
    "import math \n",
    "\n",
    "# change the file to be tag\n",
    "data = pd.read_csv(\"to_tag_data/manual_0_tagged.csv\")"
   ]
  },
  {
   "cell_type": "code",
   "execution_count": null,
   "id": "6b026225-9a61-4543-aa44-866ed7ccf3fd",
   "metadata": {},
   "outputs": [],
   "source": [
    "# start the process of tagging\n",
    "count = 0\n",
    "for i in range(len(data)):\n",
    "    \n",
    "    tag_status = data[\"Tagged_Sentence\"].loc[i]\n",
    "    print(tag_status)\n",
    "    \n",
    "    if str(tag_status)==\"_\":\n",
    "    # if tag_status==\"\":\n",
    "        print(\"CURRRENT SENTENCE\")\n",
    "        current = data[\"Sentence\"].loc[i]\n",
    "        print(count, \" -> \", current)\n",
    "        # print(\"Empty\")\n",
    "        \n",
    "        token_list = current.split()\n",
    "        tuple_list = []\n",
    "        for token in token_list:\n",
    "            print(token)\n",
    "            tag = input('Enter tag:')\n",
    "            tag_tuple = (token,tag)\n",
    "            tuple_list.append(tag_tuple)\n",
    "        \n",
    "        print(tuple_list)\n",
    "        \n",
    "        # print(data[\"Tagged_Sentence\"].loc[i])\n",
    "        data[\"Tagged_Sentence\"].loc[i] = tuple_list\n",
    "        # print(data[\"Tagged_Sentence\"].loc[i])\n",
    "        \n",
    "        print(\"\")\n",
    "    else:\n",
    "        print(\"hehe\")\n",
    "    count+=1\n",
    "    if count==2:\n",
    "        break\n"
   ]
  },
  {
   "cell_type": "code",
   "execution_count": null,
   "id": "00eca4cd-82b9-4cfb-b5ce-1168d9475963",
   "metadata": {},
   "outputs": [],
   "source": [
    "data.head()"
   ]
  },
  {
   "cell_type": "code",
   "execution_count": null,
   "id": "d68a71bc-b187-45f5-84b7-7cf62210f022",
   "metadata": {},
   "outputs": [],
   "source": [
    "filename = input('Enter a new filename to save tagged data and prevent overwrite:')\n",
    "data.to_csv(filename + \".csv\", index=False)\n",
    "\n",
    "from datetime import datetime\n",
    "# datetime object containing current date and time\n",
    "now = datetime.now()\n",
    "data.to_csv(str(now) + \".csv\", index=False)\n",
    "\n",
    "print(\"- end of sys -\")"
   ]
  }
 ],
 "metadata": {
  "kernelspec": {
   "display_name": "melex-kernel",
   "language": "python",
   "name": "melex-kernel"
  },
  "language_info": {
   "codemirror_mode": {
    "name": "ipython",
    "version": 3
   },
   "file_extension": ".py",
   "mimetype": "text/x-python",
   "name": "python",
   "nbconvert_exporter": "python",
   "pygments_lexer": "ipython3",
   "version": "3.8.13"
  }
 },
 "nbformat": 4,
 "nbformat_minor": 5
}
