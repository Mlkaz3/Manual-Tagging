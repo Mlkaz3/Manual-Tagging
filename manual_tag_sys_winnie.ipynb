{
 "cells": [
  {
   "cell_type": "code",
   "execution_count": null,
   "id": "70f55ce7-0436-4d83-bb4c-8fdc73dccbf1",
   "metadata": {},
   "outputs": [],
   "source": [
    "import pandas as pd\n",
    "import math \n",
    "\n",
    "# change the file to be tag\n",
    "data = pd.read_csv(\"to_tag_data/manual_0_tagged.csv\")"
   ]
  },
  {
   "cell_type": "code",
   "execution_count": null,
   "id": "d6174092-e83b-4ce8-bb7b-ef5bcafd2e34",
   "metadata": {},
   "outputs": [],
   "source": [
    "# start the process of tagging\n",
    "count = 0\n",
    "for i in range(len(data)):\n",
    "    \n",
    "    tag_status = data[\"Tagged_Sentence\"].loc[i]\n",
    "    print(tag_status)\n",
    "    \n",
    "    if str(tag_status)==\"_\":\n",
    "    # if tag_status==\"\":\n",
    "        print(\"CURRRENT SENTENCE\")\n",
    "        current = data[\"Sentence\"].loc[i]\n",
    "        print(count, \" -> \", current)\n",
    "        # print(\"Empty\")\n",
    "        \n",
    "        token_list = current.split()\n",
    "        tuple_list = []\n",
    "        for token in token_list:\n",
    "            print(token)\n",
    "            tag = input('Enter tag:')\n",
    "            tag_tuple = (token,tag)\n",
    "            tuple_list.append(tag_tuple)\n",
    "        \n",
    "        print(tuple_list)\n",
    "        \n",
    "        # print(data[\"Tagged_Sentence\"].loc[i])\n",
    "        data[\"Tagged_Sentence\"].loc[i] = tuple_list\n",
    "        # print(data[\"Tagged_Sentence\"].loc[i])\n",
    "        \n",
    "        print(\"\")\n",
    "    else:\n",
    "        print(\"hehe\")\n",
    "    count+=1\n",
    "    if count==2:\n",
    "        break\n"
   ]
  },
  {
   "cell_type": "code",
   "execution_count": null,
   "id": "dda4d40a-3c57-4dc4-81a4-ee3b0950c617",
   "metadata": {},
   "outputs": [],
   "source": [
    "data.head()"
   ]
  },
  {
   "cell_type": "code",
   "execution_count": null,
   "id": "3129786e-78f4-46b9-9ddf-fb18b3e4f6b2",
   "metadata": {},
   "outputs": [],
   "source": [
    "filename = input('Enter a new filename to save tagged data and prevent overwrite:')\n",
    "data.to_csv(filename + \".csv\", index=False)\n",
    "\n",
    "from datetime import datetime\n",
    "# datetime object containing current date and time\n",
    "now = datetime.now()\n",
    "data.to_csv(str(now) + \".csv\", index=False)\n",
    "\n",
    "print(\"- end of sys -\")"
   ]
  }
 ],
 "metadata": {
  "kernelspec": {
   "display_name": "melex-kernel",
   "language": "python",
   "name": "melex-kernel"
  },
  "language_info": {
   "codemirror_mode": {
    "name": "ipython",
    "version": 3
   },
   "file_extension": ".py",
   "mimetype": "text/x-python",
   "name": "python",
   "nbconvert_exporter": "python",
   "pygments_lexer": "ipython3",
   "version": "3.8.13"
  }
 },
 "nbformat": 4,
 "nbformat_minor": 5
}
