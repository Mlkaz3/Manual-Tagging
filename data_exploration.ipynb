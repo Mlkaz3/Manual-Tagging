{
 "cells": [
  {
   "cell_type": "code",
   "execution_count": 1,
   "id": "11da60ec-12fa-4032-8fab-753c4a3046d3",
   "metadata": {},
   "outputs": [],
   "source": [
    "import pandas as pd "
   ]
  },
  {
   "cell_type": "code",
   "execution_count": 2,
   "id": "7db08092-ea5d-41fb-9822-7674588b9356",
   "metadata": {},
   "outputs": [],
   "source": [
    "df = pd.read_csv(\"data.csv\", lineterminator='\\n')"
   ]
  },
  {
   "cell_type": "code",
   "execution_count": 3,
   "id": "e7899807-02f0-4260-849f-de7aa36566a5",
   "metadata": {},
   "outputs": [
    {
     "name": "stdout",
     "output_type": "stream",
     "text": [
      "<class 'pandas.core.frame.DataFrame'>\n",
      "RangeIndex: 18135612 entries, 0 to 18135611\n",
      "Data columns (total 2 columns):\n",
      " #   Column    Dtype \n",
      "---  ------    ----- \n",
      " 0   Key       int64 \n",
      " 1   Sentence  object\n",
      "dtypes: int64(1), object(1)\n",
      "memory usage: 276.7+ MB\n"
     ]
    }
   ],
   "source": [
    "df.info()"
   ]
  },
  {
   "cell_type": "code",
   "execution_count": 4,
   "id": "0ba7d0ba-c5a8-4b06-9554-f5433783c608",
   "metadata": {},
   "outputs": [
    {
     "data": {
      "text/html": [
       "<div>\n",
       "<style scoped>\n",
       "    .dataframe tbody tr th:only-of-type {\n",
       "        vertical-align: middle;\n",
       "    }\n",
       "\n",
       "    .dataframe tbody tr th {\n",
       "        vertical-align: top;\n",
       "    }\n",
       "\n",
       "    .dataframe thead th {\n",
       "        text-align: right;\n",
       "    }\n",
       "</style>\n",
       "<table border=\"1\" class=\"dataframe\">\n",
       "  <thead>\n",
       "    <tr style=\"text-align: right;\">\n",
       "      <th></th>\n",
       "      <th>Key</th>\n",
       "      <th>Sentence</th>\n",
       "    </tr>\n",
       "  </thead>\n",
       "  <tbody>\n",
       "    <tr>\n",
       "      <th>0</th>\n",
       "      <td>0</td>\n",
       "      <td>$HASHTAG$ $HASHTAG$ $HASHTAG$ $HASHTAG$ $HASHT...</td>\n",
       "    </tr>\n",
       "    <tr>\n",
       "      <th>1</th>\n",
       "      <td>1</td>\n",
       "      <td>Yahoo!</td>\n",
       "    </tr>\n",
       "    <tr>\n",
       "      <th>2</th>\n",
       "      <td>2</td>\n",
       "      <td>enjoy your oils</td>\n",
       "    </tr>\n",
       "    <tr>\n",
       "      <th>3</th>\n",
       "      <td>3</td>\n",
       "      <td>NAKK</td>\n",
       "    </tr>\n",
       "    <tr>\n",
       "      <th>4</th>\n",
       "      <td>4</td>\n",
       "      <td>Congratulations girl!</td>\n",
       "    </tr>\n",
       "  </tbody>\n",
       "</table>\n",
       "</div>"
      ],
      "text/plain": [
       "   Key                                           Sentence\n",
       "0    0  $HASHTAG$ $HASHTAG$ $HASHTAG$ $HASHTAG$ $HASHT...\n",
       "1    1                                             Yahoo!\n",
       "2    2                                    enjoy your oils\n",
       "3    3                                               NAKK\n",
       "4    4                              Congratulations girl!"
      ]
     },
     "execution_count": 4,
     "metadata": {},
     "output_type": "execute_result"
    }
   ],
   "source": [
    "df.head()"
   ]
  },
  {
   "cell_type": "code",
   "execution_count": 5,
   "id": "1f139774-7056-4cd1-ba79-59b28f172b1f",
   "metadata": {},
   "outputs": [
    {
     "data": {
      "text/html": [
       "<div>\n",
       "<style scoped>\n",
       "    .dataframe tbody tr th:only-of-type {\n",
       "        vertical-align: middle;\n",
       "    }\n",
       "\n",
       "    .dataframe tbody tr th {\n",
       "        vertical-align: top;\n",
       "    }\n",
       "\n",
       "    .dataframe thead th {\n",
       "        text-align: right;\n",
       "    }\n",
       "</style>\n",
       "<table border=\"1\" class=\"dataframe\">\n",
       "  <thead>\n",
       "    <tr style=\"text-align: right;\">\n",
       "      <th></th>\n",
       "      <th>Key</th>\n",
       "      <th>Sentence</th>\n",
       "    </tr>\n",
       "  </thead>\n",
       "  <tbody>\n",
       "    <tr>\n",
       "      <th>18135607</th>\n",
       "      <td>19332855</td>\n",
       "      <td>sng nk team meeting lepas ni</td>\n",
       "    </tr>\n",
       "    <tr>\n",
       "      <th>18135608</th>\n",
       "      <td>19332856</td>\n",
       "      <td>thanks seller</td>\n",
       "    </tr>\n",
       "    <tr>\n",
       "      <th>18135609</th>\n",
       "      <td>19332857</td>\n",
       "      <td>Beautiful and healthy products</td>\n",
       "    </tr>\n",
       "    <tr>\n",
       "      <th>18135610</th>\n",
       "      <td>19332858</td>\n",
       "      <td>Seller is helpful too</td>\n",
       "    </tr>\n",
       "    <tr>\n",
       "      <th>18135611</th>\n",
       "      <td>19332859</td>\n",
       "      <td>Will purchase again</td>\n",
       "    </tr>\n",
       "  </tbody>\n",
       "</table>\n",
       "</div>"
      ],
      "text/plain": [
       "               Key                        Sentence\n",
       "18135607  19332855    sng nk team meeting lepas ni\n",
       "18135608  19332856                   thanks seller\n",
       "18135609  19332857  Beautiful and healthy products\n",
       "18135610  19332858           Seller is helpful too\n",
       "18135611  19332859             Will purchase again"
      ]
     },
     "execution_count": 5,
     "metadata": {},
     "output_type": "execute_result"
    }
   ],
   "source": [
    "df.tail()"
   ]
  },
  {
   "cell_type": "code",
   "execution_count": 6,
   "id": "cfad521d-c093-4de1-8bab-8ef345ad069a",
   "metadata": {},
   "outputs": [],
   "source": [
    "def pre_clean(df):\n",
    "    # drop null\n",
    "    df = df[df['Sentence'].notna()]\n",
    "    # drop duplicates \n",
    "    df = df.drop_duplicates(subset='Sentence', keep=\"first\")\n",
    "    return df"
   ]
  },
  {
   "cell_type": "code",
   "execution_count": 8,
   "id": "90f0c79b-4204-40f6-b355-9dc5b6e39443",
   "metadata": {},
   "outputs": [
    {
     "name": "stdout",
     "output_type": "stream",
     "text": [
      "<class 'pandas.core.frame.DataFrame'>\n",
      "Int64Index: 9855006 entries, 0 to 18135609\n",
      "Data columns (total 2 columns):\n",
      " #   Column    Dtype \n",
      "---  ------    ----- \n",
      " 0   Key       int64 \n",
      " 1   Sentence  object\n",
      "dtypes: int64(1), object(1)\n",
      "memory usage: 225.6+ MB\n"
     ]
    }
   ],
   "source": [
    "data = pre_clean(df)\n",
    "data.info()"
   ]
  },
  {
   "cell_type": "markdown",
   "id": "f824da94-f6e7-4bb7-95fb-9035f03ef6c4",
   "metadata": {},
   "source": [
    "# BEFORE VS AFTER PREPROCESSING\n",
    "\n",
    "- before preprocessing: 5,701,763 \n",
    "- after preprocessing: 9,855,006 \n",
    "\n",
    "## 9.8 million "
   ]
  },
  {
   "cell_type": "code",
   "execution_count": 9,
   "id": "dde447cb-34c5-4b97-bdb7-a14d808a26ef",
   "metadata": {},
   "outputs": [
    {
     "data": {
      "text/html": [
       "<div>\n",
       "<style scoped>\n",
       "    .dataframe tbody tr th:only-of-type {\n",
       "        vertical-align: middle;\n",
       "    }\n",
       "\n",
       "    .dataframe tbody tr th {\n",
       "        vertical-align: top;\n",
       "    }\n",
       "\n",
       "    .dataframe thead th {\n",
       "        text-align: right;\n",
       "    }\n",
       "</style>\n",
       "<table border=\"1\" class=\"dataframe\">\n",
       "  <thead>\n",
       "    <tr style=\"text-align: right;\">\n",
       "      <th></th>\n",
       "      <th>Key</th>\n",
       "      <th>Sentence</th>\n",
       "    </tr>\n",
       "  </thead>\n",
       "  <tbody>\n",
       "    <tr>\n",
       "      <th>0</th>\n",
       "      <td>0</td>\n",
       "      <td>$HASHTAG$ $HASHTAG$ $HASHTAG$ $HASHTAG$ $HASHT...</td>\n",
       "    </tr>\n",
       "    <tr>\n",
       "      <th>1</th>\n",
       "      <td>1</td>\n",
       "      <td>Yahoo!</td>\n",
       "    </tr>\n",
       "    <tr>\n",
       "      <th>2</th>\n",
       "      <td>2</td>\n",
       "      <td>enjoy your oils</td>\n",
       "    </tr>\n",
       "    <tr>\n",
       "      <th>3</th>\n",
       "      <td>3</td>\n",
       "      <td>NAKK</td>\n",
       "    </tr>\n",
       "    <tr>\n",
       "      <th>4</th>\n",
       "      <td>4</td>\n",
       "      <td>Congratulations girl!</td>\n",
       "    </tr>\n",
       "  </tbody>\n",
       "</table>\n",
       "</div>"
      ],
      "text/plain": [
       "   Key                                           Sentence\n",
       "0    0  $HASHTAG$ $HASHTAG$ $HASHTAG$ $HASHTAG$ $HASHT...\n",
       "1    1                                             Yahoo!\n",
       "2    2                                    enjoy your oils\n",
       "3    3                                               NAKK\n",
       "4    4                              Congratulations girl!"
      ]
     },
     "execution_count": 9,
     "metadata": {},
     "output_type": "execute_result"
    }
   ],
   "source": [
    "data.head()"
   ]
  },
  {
   "cell_type": "code",
   "execution_count": 11,
   "id": "0475f24a-e63d-4443-b6ab-72fd214ec73b",
   "metadata": {},
   "outputs": [],
   "source": [
    "data = data[['Sentence']]"
   ]
  },
  {
   "cell_type": "code",
   "execution_count": 12,
   "id": "1410a0dd-6319-4438-8eb9-9fbbb5f9fb63",
   "metadata": {},
   "outputs": [
    {
     "data": {
      "text/html": [
       "<div>\n",
       "<style scoped>\n",
       "    .dataframe tbody tr th:only-of-type {\n",
       "        vertical-align: middle;\n",
       "    }\n",
       "\n",
       "    .dataframe tbody tr th {\n",
       "        vertical-align: top;\n",
       "    }\n",
       "\n",
       "    .dataframe thead th {\n",
       "        text-align: right;\n",
       "    }\n",
       "</style>\n",
       "<table border=\"1\" class=\"dataframe\">\n",
       "  <thead>\n",
       "    <tr style=\"text-align: right;\">\n",
       "      <th></th>\n",
       "      <th>Sentence</th>\n",
       "    </tr>\n",
       "  </thead>\n",
       "  <tbody>\n",
       "    <tr>\n",
       "      <th>0</th>\n",
       "      <td>$HASHTAG$ $HASHTAG$ $HASHTAG$ $HASHTAG$ $HASHT...</td>\n",
       "    </tr>\n",
       "    <tr>\n",
       "      <th>1</th>\n",
       "      <td>Yahoo!</td>\n",
       "    </tr>\n",
       "    <tr>\n",
       "      <th>2</th>\n",
       "      <td>enjoy your oils</td>\n",
       "    </tr>\n",
       "    <tr>\n",
       "      <th>3</th>\n",
       "      <td>NAKK</td>\n",
       "    </tr>\n",
       "    <tr>\n",
       "      <th>4</th>\n",
       "      <td>Congratulations girl!</td>\n",
       "    </tr>\n",
       "  </tbody>\n",
       "</table>\n",
       "</div>"
      ],
      "text/plain": [
       "                                            Sentence\n",
       "0  $HASHTAG$ $HASHTAG$ $HASHTAG$ $HASHTAG$ $HASHT...\n",
       "1                                             Yahoo!\n",
       "2                                    enjoy your oils\n",
       "3                                               NAKK\n",
       "4                              Congratulations girl!"
      ]
     },
     "execution_count": 12,
     "metadata": {},
     "output_type": "execute_result"
    }
   ],
   "source": [
    "data.head()"
   ]
  },
  {
   "cell_type": "code",
   "execution_count": 15,
   "id": "e7549476-fe36-4adf-b3c1-cdaebe7775ba",
   "metadata": {},
   "outputs": [
    {
     "data": {
      "text/html": [
       "<div>\n",
       "<style scoped>\n",
       "    .dataframe tbody tr th:only-of-type {\n",
       "        vertical-align: middle;\n",
       "    }\n",
       "\n",
       "    .dataframe tbody tr th {\n",
       "        vertical-align: top;\n",
       "    }\n",
       "\n",
       "    .dataframe thead th {\n",
       "        text-align: right;\n",
       "    }\n",
       "</style>\n",
       "<table border=\"1\" class=\"dataframe\">\n",
       "  <thead>\n",
       "    <tr style=\"text-align: right;\">\n",
       "      <th></th>\n",
       "      <th>Sentence</th>\n",
       "    </tr>\n",
       "  </thead>\n",
       "  <tbody>\n",
       "    <tr>\n",
       "      <th>7861976</th>\n",
       "      <td>Lawa belaka</td>\n",
       "    </tr>\n",
       "    <tr>\n",
       "      <th>3179334</th>\n",
       "      <td>kain microfibres cepat kering</td>\n",
       "    </tr>\n",
       "    <tr>\n",
       "      <th>5755734</th>\n",
       "      <td>Terbaikkkkkkkkkkkkk bagusssssssssssssss cunnnn...</td>\n",
       "    </tr>\n",
       "    <tr>\n",
       "      <th>4443364</th>\n",
       "      <td>Semoga motor saya tidak kesejukkan dimalam har...</td>\n",
       "    </tr>\n",
       "    <tr>\n",
       "      <th>6275930</th>\n",
       "      <td>Very fast delivery although from overseas</td>\n",
       "    </tr>\n",
       "  </tbody>\n",
       "</table>\n",
       "</div>"
      ],
      "text/plain": [
       "                                                  Sentence\n",
       "7861976                                        Lawa belaka\n",
       "3179334                      kain microfibres cepat kering\n",
       "5755734  Terbaikkkkkkkkkkkkk bagusssssssssssssss cunnnn...\n",
       "4443364  Semoga motor saya tidak kesejukkan dimalam har...\n",
       "6275930          Very fast delivery although from overseas"
      ]
     },
     "execution_count": 15,
     "metadata": {},
     "output_type": "execute_result"
    }
   ],
   "source": [
    "from sklearn.utils import shuffle \n",
    "\n",
    "shuffled = shuffle(data)\n",
    "shuffled.head()"
   ]
  },
  {
   "cell_type": "code",
   "execution_count": 24,
   "id": "234204f1-679d-4ef7-871c-0b28fab36d93",
   "metadata": {},
   "outputs": [],
   "source": [
    "# Split the dataset for training and testing\n",
    "cutoff = int(.20 * len(shuffled))\n",
    "training_sentences = shuffled[:cutoff]\n",
    "test_sentences = shuffled[cutoff:]"
   ]
  },
  {
   "cell_type": "code",
   "execution_count": 25,
   "id": "cea8f69a-4125-4f76-a7d5-ac6fab8baff3",
   "metadata": {},
   "outputs": [
    {
     "data": {
      "text/html": [
       "<div>\n",
       "<style scoped>\n",
       "    .dataframe tbody tr th:only-of-type {\n",
       "        vertical-align: middle;\n",
       "    }\n",
       "\n",
       "    .dataframe tbody tr th {\n",
       "        vertical-align: top;\n",
       "    }\n",
       "\n",
       "    .dataframe thead th {\n",
       "        text-align: right;\n",
       "    }\n",
       "</style>\n",
       "<table border=\"1\" class=\"dataframe\">\n",
       "  <thead>\n",
       "    <tr style=\"text-align: right;\">\n",
       "      <th></th>\n",
       "      <th>Sentence</th>\n",
       "    </tr>\n",
       "  </thead>\n",
       "  <tbody>\n",
       "    <tr>\n",
       "      <th>7861976</th>\n",
       "      <td>Lawa belaka</td>\n",
       "    </tr>\n",
       "    <tr>\n",
       "      <th>3179334</th>\n",
       "      <td>kain microfibres cepat kering</td>\n",
       "    </tr>\n",
       "    <tr>\n",
       "      <th>5755734</th>\n",
       "      <td>Terbaikkkkkkkkkkkkk bagusssssssssssssss cunnnn...</td>\n",
       "    </tr>\n",
       "    <tr>\n",
       "      <th>4443364</th>\n",
       "      <td>Semoga motor saya tidak kesejukkan dimalam har...</td>\n",
       "    </tr>\n",
       "    <tr>\n",
       "      <th>6275930</th>\n",
       "      <td>Very fast delivery although from overseas</td>\n",
       "    </tr>\n",
       "  </tbody>\n",
       "</table>\n",
       "</div>"
      ],
      "text/plain": [
       "                                                  Sentence\n",
       "7861976                                        Lawa belaka\n",
       "3179334                      kain microfibres cepat kering\n",
       "5755734  Terbaikkkkkkkkkkkkk bagusssssssssssssss cunnnn...\n",
       "4443364  Semoga motor saya tidak kesejukkan dimalam har...\n",
       "6275930          Very fast delivery although from overseas"
      ]
     },
     "execution_count": 25,
     "metadata": {},
     "output_type": "execute_result"
    }
   ],
   "source": [
    "training_sentences.head()"
   ]
  },
  {
   "cell_type": "code",
   "execution_count": 30,
   "id": "698724cb-5a06-4a12-ba21-95da4fc052f0",
   "metadata": {},
   "outputs": [],
   "source": [
    "training_sentences.to_csv(\"data_train.csv\", index=False)"
   ]
  },
  {
   "cell_type": "code",
   "execution_count": 27,
   "id": "3270d74f-7460-4f78-96cf-f0eb7aba0532",
   "metadata": {},
   "outputs": [
    {
     "data": {
      "text/html": [
       "<div>\n",
       "<style scoped>\n",
       "    .dataframe tbody tr th:only-of-type {\n",
       "        vertical-align: middle;\n",
       "    }\n",
       "\n",
       "    .dataframe tbody tr th {\n",
       "        vertical-align: top;\n",
       "    }\n",
       "\n",
       "    .dataframe thead th {\n",
       "        text-align: right;\n",
       "    }\n",
       "</style>\n",
       "<table border=\"1\" class=\"dataframe\">\n",
       "  <thead>\n",
       "    <tr style=\"text-align: right;\">\n",
       "      <th></th>\n",
       "      <th>Sentence</th>\n",
       "    </tr>\n",
       "  </thead>\n",
       "  <tbody>\n",
       "    <tr>\n",
       "      <th>10855980</th>\n",
       "      <td>it stay on your lips</td>\n",
       "    </tr>\n",
       "    <tr>\n",
       "      <th>6947526</th>\n",
       "      <td>Brang smp dgan cpat</td>\n",
       "    </tr>\n",
       "    <tr>\n",
       "      <th>16152310</th>\n",
       "      <td>keseluruhan servis amat bik</td>\n",
       "    </tr>\n",
       "    <tr>\n",
       "      <th>2183949</th>\n",
       "      <td>saya dh pkai 3 hari tanpa charge</td>\n",
       "    </tr>\n",
       "    <tr>\n",
       "      <th>9630432</th>\n",
       "      <td>Ada tali sekali diberi</td>\n",
       "    </tr>\n",
       "  </tbody>\n",
       "</table>\n",
       "</div>"
      ],
      "text/plain": [
       "                                  Sentence\n",
       "10855980              it stay on your lips\n",
       "6947526                Brang smp dgan cpat\n",
       "16152310       keseluruhan servis amat bik\n",
       "2183949   saya dh pkai 3 hari tanpa charge\n",
       "9630432             Ada tali sekali diberi"
      ]
     },
     "execution_count": 27,
     "metadata": {},
     "output_type": "execute_result"
    }
   ],
   "source": [
    "test_sentences.head()"
   ]
  },
  {
   "cell_type": "code",
   "execution_count": 31,
   "id": "b0d61bb5-53de-4c49-bdb4-111d316a5713",
   "metadata": {},
   "outputs": [],
   "source": [
    "test_sentences.to_csv(\"data_test.csv\", index=False)"
   ]
  },
  {
   "cell_type": "code",
   "execution_count": 29,
   "id": "36a7f244-bec8-498c-bf7e-a7da3bf96ec0",
   "metadata": {},
   "outputs": [
    {
     "name": "stdout",
     "output_type": "stream",
     "text": [
      "training size :  1971001\n",
      "testing size :  7884005\n"
     ]
    }
   ],
   "source": [
    "print(\"training size : \", len(training_sentences))\n",
    "print(\"testing size : \", len(test_sentences))"
   ]
  },
  {
   "cell_type": "markdown",
   "id": "abd06b93-2750-4b2e-a951-c3a96bbc4685",
   "metadata": {},
   "source": [
    "# split manually tagging file into 1k "
   ]
  },
  {
   "cell_type": "code",
   "execution_count": 1,
   "id": "5bdadf6b",
   "metadata": {},
   "outputs": [],
   "source": [
    "import pandas as pd"
   ]
  },
  {
   "cell_type": "code",
   "execution_count": 2,
   "id": "73c32dfd-a290-42d0-a4d1-db0b405b5144",
   "metadata": {},
   "outputs": [],
   "source": [
    "manual_tag_data = pd.read_csv(\"data_train.csv\")"
   ]
  },
  {
   "cell_type": "code",
   "execution_count": 3,
   "id": "fd876c8d-7857-4c49-9b78-58d693767f63",
   "metadata": {},
   "outputs": [
    {
     "data": {
      "text/html": [
       "<div>\n",
       "<style scoped>\n",
       "    .dataframe tbody tr th:only-of-type {\n",
       "        vertical-align: middle;\n",
       "    }\n",
       "\n",
       "    .dataframe tbody tr th {\n",
       "        vertical-align: top;\n",
       "    }\n",
       "\n",
       "    .dataframe thead th {\n",
       "        text-align: right;\n",
       "    }\n",
       "</style>\n",
       "<table border=\"1\" class=\"dataframe\">\n",
       "  <thead>\n",
       "    <tr style=\"text-align: right;\">\n",
       "      <th></th>\n",
       "      <th>Sentence</th>\n",
       "    </tr>\n",
       "  </thead>\n",
       "  <tbody>\n",
       "    <tr>\n",
       "      <th>0</th>\n",
       "      <td>Lawa belaka</td>\n",
       "    </tr>\n",
       "    <tr>\n",
       "      <th>1</th>\n",
       "      <td>kain microfibres cepat kering</td>\n",
       "    </tr>\n",
       "    <tr>\n",
       "      <th>2</th>\n",
       "      <td>Terbaikkkkkkkkkkkkk bagusssssssssssssss cunnnn...</td>\n",
       "    </tr>\n",
       "    <tr>\n",
       "      <th>3</th>\n",
       "      <td>Semoga motor saya tidak kesejukkan dimalam har...</td>\n",
       "    </tr>\n",
       "    <tr>\n",
       "      <th>4</th>\n",
       "      <td>Very fast delivery although from overseas</td>\n",
       "    </tr>\n",
       "  </tbody>\n",
       "</table>\n",
       "</div>"
      ],
      "text/plain": [
       "                                            Sentence\n",
       "0                                        Lawa belaka\n",
       "1                      kain microfibres cepat kering\n",
       "2  Terbaikkkkkkkkkkkkk bagusssssssssssssss cunnnn...\n",
       "3  Semoga motor saya tidak kesejukkan dimalam har...\n",
       "4          Very fast delivery although from overseas"
      ]
     },
     "execution_count": 3,
     "metadata": {},
     "output_type": "execute_result"
    }
   ],
   "source": [
    "manual_tag_data.head()"
   ]
  },
  {
   "cell_type": "code",
   "execution_count": 4,
   "id": "80943de7-3e7b-4f6a-b8ca-336f78f0993e",
   "metadata": {},
   "outputs": [],
   "source": [
    "import math\n",
    "import numpy as np"
   ]
  },
  {
   "cell_type": "code",
   "execution_count": 5,
   "id": "359f756c-e120-4a05-a00c-3dde8c156740",
   "metadata": {},
   "outputs": [],
   "source": [
    "sen_list = manual_tag_data.Sentence.tolist()\n",
    "sen_list_len = len(sen_list)"
   ]
  },
  {
   "cell_type": "code",
   "execution_count": 6,
   "id": "3e2b59bb-3f73-4338-94ca-8b1db153e07a",
   "metadata": {},
   "outputs": [],
   "source": [
    "mm = math.ceil(sen_list_len/1000)"
   ]
  },
  {
   "cell_type": "code",
   "execution_count": 7,
   "id": "146c3f46-21d9-442d-94fe-dd8da0559302",
   "metadata": {},
   "outputs": [
    {
     "name": "stdout",
     "output_type": "stream",
     "text": [
      "1972\n"
     ]
    }
   ],
   "source": [
    "print(mm)"
   ]
  },
  {
   "cell_type": "code",
   "execution_count": 8,
   "id": "847387fd-57cf-488e-b7fe-c7d54c9e988a",
   "metadata": {},
   "outputs": [],
   "source": [
    "sen_splitting = np.array_split(sen_list,mm)"
   ]
  },
  {
   "cell_type": "code",
   "execution_count": 9,
   "id": "2ed908aa-89db-4899-8523-30e408da32c0",
   "metadata": {},
   "outputs": [
    {
     "name": "stdout",
     "output_type": "stream",
     "text": [
      "1972\n"
     ]
    }
   ],
   "source": [
    "count = 0\n",
    "for sen_l in sen_splitting:\n",
    "    df = pd.DataFrame(sen_l)\n",
    "    df.columns = ['Sentence']\n",
    "    df.to_csv('manual_tag_data/manual_' + str(count) +'.csv', index=False)\n",
    "    count+=1\n",
    "\n",
    "print(count)"
   ]
  },
  {
   "cell_type": "code",
   "execution_count": null,
   "id": "61f17044-cf6f-4e19-a897-3c1c460376cc",
   "metadata": {},
   "outputs": [],
   "source": []
  },
  {
   "cell_type": "code",
   "execution_count": null,
   "id": "0dd04089-5c6f-4f92-b2e3-d0cd56021381",
   "metadata": {},
   "outputs": [],
   "source": []
  },
  {
   "cell_type": "code",
   "execution_count": null,
   "id": "7ef6aab7-0ba5-4528-bd21-2c305faad97c",
   "metadata": {},
   "outputs": [],
   "source": []
  },
  {
   "cell_type": "code",
   "execution_count": null,
   "id": "83685274-ca98-4a12-a6bf-672ffe7688b1",
   "metadata": {},
   "outputs": [],
   "source": [
    "import pandas as pd \n",
    "import math\n",
    "import numpy as np\n",
    "\n",
    "def mw_splitting():\n",
    "    \"\"\"\n",
    "    This function aims to split the large unvalidate token into smaller chunk files.\n",
    "    Each file will store a maximum of 1000 tokens only in csv file format.\n",
    "    \"\"\"\n",
    "    df = pd.read_csv('token/en.csv')\n",
    "    en_list = df.text.tolist()\n",
    "    en_list_len = len(en_list)\n",
    "    mm = math.ceil(en_list_len/1000) # split into <=1000 token per array \n",
    "    en_splitting = np.array_split(en_list,mm)\n",
    "    \n",
    "    # loop through the list of list \n",
    "    # should output 388 file in this case\n",
    "    count = 0\n",
    "    for en_l in en_splitting:\n",
    "        df = pd.DataFrame(en_l)\n",
    "        df.columns = ['text']\n",
    "        df.to_csv('token_en_split/en_' + str(count) +'.csv', index=False)\n",
    "        count+=1\n",
    " "
   ]
  }
 ],
 "metadata": {
  "kernelspec": {
   "display_name": "Python 3.8.10 ('env1')",
   "language": "python",
   "name": "python3"
  },
  "language_info": {
   "codemirror_mode": {
    "name": "ipython",
    "version": 3
   },
   "file_extension": ".py",
   "mimetype": "text/x-python",
   "name": "python",
   "nbconvert_exporter": "python",
   "pygments_lexer": "ipython3",
   "version": "3.8.10"
  },
  "vscode": {
   "interpreter": {
    "hash": "b99c101d616cbdccde507e188409b1f92d33c191ae2f9ddd5e778a0ea3ae0c3e"
   }
  }
 },
 "nbformat": 4,
 "nbformat_minor": 5
}
